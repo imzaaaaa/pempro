{
 "cells": [
  {
   "cell_type": "markdown",
   "metadata": {},
   "source": [
    "# LATIHAN MATERI ARRAY"
   ]
  },
  {
   "cell_type": "code",
   "execution_count": 18,
   "metadata": {},
   "outputs": [
    {
     "name": "stdout",
     "output_type": "stream",
     "text": [
      "perkalaian matriks array:\n",
      "[ 968 1530 1971]\n"
     ]
    }
   ],
   "source": [
    "\n",
    "# perkalaian matriks array\n",
    "\n",
    "import numpy as np\n",
    "A = np.array([22, 17, 27])\n",
    "B = np.array([44, 90, 73])\n",
    "\n",
    "perkalian = A * B\n",
    "print(\"perkalaian matriks array:\")\n",
    "print(perkalian)"
   ]
  },
  {
   "cell_type": "code",
   "execution_count": 14,
   "metadata": {},
   "outputs": [
    {
     "name": "stdout",
     "output_type": "stream",
     "text": [
      "pengurangan matriks array:\n",
      "[-22 -73 -46]\n"
     ]
    }
   ],
   "source": [
    "# pengurangan matriks array\n",
    "\n",
    "import numpy as np\n",
    "A = np.array([22, 17, 27])\n",
    "B = np.array([44, 90, 73])\n",
    "\n",
    "pengurangan = A - B\n",
    "print(\"pengurangan matriks array:\")\n",
    "print(pengurangan)"
   ]
  },
  {
   "cell_type": "code",
   "execution_count": 15,
   "metadata": {},
   "outputs": [
    {
     "name": "stdout",
     "output_type": "stream",
     "text": [
      "transpose matriks array:\n",
      "[[22 44]\n",
      " [17 90]\n",
      " [27 73]]\n"
     ]
    }
   ],
   "source": [
    "# transpose matriks array\n",
    "\n",
    "import numpy as np\n",
    "\n",
    "A = np.array([[22, 17,27,], [44, 90, 73]])\n",
    "\n",
    "transpose_A = np.transpose(A)\n",
    "print(\"transpose matriks array:\")\n",
    "print(transpose_A)"
   ]
  },
  {
   "cell_type": "code",
   "execution_count": 16,
   "metadata": {},
   "outputs": [
    {
     "name": "stdout",
     "output_type": "stream",
     "text": [
      "\n",
      "Invers matriks A:\n",
      "[[ 0.96052632 -0.22368421]\n",
      " [-1.18421053  0.28947368]]\n"
     ]
    }
   ],
   "source": [
    "# Nilai Invers array\n",
    "\n",
    "import numpy as np\n",
    "\n",
    "A = np.array([[22, 17],[90, 73]])\n",
    "\n",
    "invers_A = np.linalg.inv(A)\n",
    "print(\"\\nInvers matriks A:\")\n",
    "print(invers_A)"
   ]
  },
  {
   "cell_type": "code",
   "execution_count": 17,
   "metadata": {},
   "outputs": [
    {
     "name": "stdout",
     "output_type": "stream",
     "text": [
      "Determinan dari matriks A: 75.99999999999993\n"
     ]
    }
   ],
   "source": [
    "# determinan dan invers matriks array\n",
    "\n",
    "import numpy as np\n",
    "\n",
    "A = np.array([[22, 17],[90, 73]])\n",
    "\n",
    "determinant_A = np.linalg.det(A)\n",
    "print(\"Determinan dari matriks A:\", determinant_A)"
   ]
  }
 ],
 "metadata": {
  "kernelspec": {
   "display_name": "Python 3",
   "language": "python",
   "name": "python3"
  },
  "language_info": {
   "codemirror_mode": {
    "name": "ipython",
    "version": 3
   },
   "file_extension": ".py",
   "mimetype": "text/x-python",
   "name": "python",
   "nbconvert_exporter": "python",
   "pygments_lexer": "ipython3",
   "version": "3.11.5"
  }
 },
 "nbformat": 4,
 "nbformat_minor": 2
}
