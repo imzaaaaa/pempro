{
 "cells": [
  {
   "cell_type": "code",
   "execution_count": 4,
   "metadata": {},
   "outputs": [
    {
     "name": "stdout",
     "output_type": "stream",
     "text": [
      "[[ 0 32]\n",
      " [27  0]\n",
      " [42 21]]\n"
     ]
    }
   ],
   "source": [
    "# perkalian matriks array\n",
    "\n",
    "import numpy as np\n",
    "\n",
    "A = np.array([[0,8],[3,1],[6,7]])\n",
    "B = np.array([[4,4],[9,0],[7,3]])\n",
    "\n",
    "perkalian = A * B\n",
    "print(perkalian)"
   ]
  },
  {
   "cell_type": "code",
   "execution_count": 5,
   "metadata": {},
   "outputs": [
    {
     "name": "stdout",
     "output_type": "stream",
     "text": [
      "[[-4  4]\n",
      " [-6  1]\n",
      " [-1  4]]\n"
     ]
    }
   ],
   "source": [
    "# pengurangan matriks array\n",
    "\n",
    "import numpy as np\n",
    "\n",
    "A = np.array([[0,8],[3,1],[6,7]])\n",
    "B = np.array([[4,4],[9,0],[7,3]])\n",
    "\n",
    "pengurangan = A - B\n",
    "print(pengurangan)"
   ]
  },
  {
   "cell_type": "code",
   "execution_count": 6,
   "metadata": {},
   "outputs": [
    {
     "name": "stdout",
     "output_type": "stream",
     "text": [
      "[[4 9 7]\n",
      " [4 0 3]]\n"
     ]
    }
   ],
   "source": [
    "# transpose matriks array\n",
    "\n",
    "import numpy as np \n",
    "A = np.array([[4,4],[9,0],[7,3]])\n",
    "\n",
    "transpose_A = np.transpose(A)\n",
    "print(transpose_A)"
   ]
  },
  {
   "cell_type": "code",
   "execution_count": 7,
   "metadata": {},
   "outputs": [
    {
     "name": "stdout",
     "output_type": "stream",
     "text": [
      "\n",
      "invers matriks A:\n",
      "invers dari matriks A: [[ 0.          0.11111111]\n",
      " [ 0.25       -0.11111111]]\n"
     ]
    }
   ],
   "source": [
    "# invers matriks array\n",
    "\n",
    "import numpy as np\n",
    "\n",
    "A = np.array([[4,4],[9,0]])\n",
    "\n",
    "invers_A = np.linalg.inv(A)\n",
    "print(\"\\ninvers matriks A:\")\n",
    "print(\"invers dari matriks A:\", invers_A)"
   ]
  },
  {
   "cell_type": "code",
   "execution_count": 9,
   "metadata": {},
   "outputs": [
    {
     "name": "stdout",
     "output_type": "stream",
     "text": [
      "determinan dari matriks A: -36.0\n"
     ]
    }
   ],
   "source": [
    "# determinan matriks array\n",
    "\n",
    "import numpy as np\n",
    "A = np.array([[4,4],[9,0]])\n",
    "\n",
    "determinant_A = np.linalg.det(A)\n",
    "print(\"determinan dari matriks A:\", determinant_A)"
   ]
  }
 ],
 "metadata": {
  "kernelspec": {
   "display_name": "Python 3",
   "language": "python",
   "name": "python3"
  },
  "language_info": {
   "codemirror_mode": {
    "name": "ipython",
    "version": 3
   },
   "file_extension": ".py",
   "mimetype": "text/x-python",
   "name": "python",
   "nbconvert_exporter": "python",
   "pygments_lexer": "ipython3",
   "version": "3.11.5"
  }
 },
 "nbformat": 4,
 "nbformat_minor": 2
}
